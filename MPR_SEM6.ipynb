{
  "nbformat": 4,
  "nbformat_minor": 0,
  "metadata": {
    "colab": {
      "provenance": [],
      "authorship_tag": "ABX9TyPWmY2X+EDMMj6AKotq0eMD",
      "include_colab_link": true
    },
    "kernelspec": {
      "name": "python3",
      "display_name": "Python 3"
    },
    "language_info": {
      "name": "python"
    }
  },
  "cells": [
    {
      "cell_type": "markdown",
      "metadata": {
        "id": "view-in-github",
        "colab_type": "text"
      },
      "source": [
        "<a href=\"https://colab.research.google.com/github/shubhampandey78/Public-Service-Demand-Forecasting/blob/main/MPR_SEM6.ipynb\" target=\"_parent\"><img src=\"https://colab.research.google.com/assets/colab-badge.svg\" alt=\"Open In Colab\"/></a>"
      ]
    },
    {
      "cell_type": "code",
      "execution_count": null,
      "metadata": {
        "colab": {
          "base_uri": "https://localhost:8080/"
        },
        "id": "fdgUehmlw-5_",
        "outputId": "a20f1c45-b3f5-490f-ce4d-c4ef5a8e1376"
      },
      "outputs": [
        {
          "output_type": "stream",
          "name": "stdout",
          "text": [
            "Mounted at /content/drive\n"
          ]
        }
      ],
      "source": [
        "from google.colab import drive\n",
        "drive.mount('/content/drive')\n"
      ]
    },
    {
      "cell_type": "code",
      "source": [
        "import os\n",
        "\n",
        "# Define folder structure\n",
        "folders = [\n",
        "    \"data/raw\", \"data/processed\", \"notebooks\", \"models\", \"scripts\", \"results\"\n",
        "]\n",
        "\n",
        "# Create folders\n",
        "for folder in folders:\n",
        "    os.makedirs(folder, exist_ok=True)\n",
        "\n",
        "# Create placeholder files\n",
        "files = [\n",
        "    \"README.md\", \"requirements.txt\",\n",
        "    \"notebooks/EDA.ipynb\", \"notebooks/Regression_Model.ipynb\", \"notebooks/TensorFlow_Model.ipynb\",\n",
        "    \"scripts/preprocess.py\", \"scripts/train_model.py\"\n",
        "]\n",
        "\n",
        "for file in files:\n",
        "    with open(file, \"w\") as f:\n",
        "        pass  # Just creating empty files\n"
      ],
      "metadata": {
        "id": "tJa-EdyT1sof"
      },
      "execution_count": null,
      "outputs": []
    },
    {
      "cell_type": "code",
      "source": [
        "import pandas as pd\n",
        "df = pd.read_csv(\"data/raw/PMC Hospital Infrastructure.csv\")  # Change filename accordingly\n",
        "df.head()\n"
      ],
      "metadata": {
        "id": "YLh3maPH669I",
        "colab": {
          "base_uri": "https://localhost:8080/",
          "height": 625
        },
        "outputId": "3c84df6c-0b98-48b1-810a-8ae893918a1f"
      },
      "execution_count": null,
      "outputs": [
        {
          "output_type": "execute_result",
          "data": {
            "text/plain": [
              "  City Name                      Zone Name              Ward Name  Zone No.  \\\n",
              "0      Pune      kasba - vishrambagwada WO             Ambil Odha       5.0   \n",
              "1      Pune               Aundh - Baner WO                  Aundh       2.0   \n",
              "2      Pune               Aundh - Baner WO                 Bopodi       2.0   \n",
              "3      Pune  Ghole Road - Shivaji Nagar WO  Shivaji Nagar Station       2.0   \n",
              "4      Pune          Hadapsar - Mundhwa WO               Hadapsar       4.0   \n",
              "\n",
              "   Ward No.                                      Facility Name  \\\n",
              "0       NaN  Late Matoshri Ramabai Ambedkar Maternity Home,...   \n",
              "1       NaN                   Aundh Kuti Maternity Home, Aundh   \n",
              "2       NaN  Late Draupadabai Murlidhar Khedekar Maternity ...   \n",
              "3       NaN                       Dr. Dalvi, PMC Joint Project   \n",
              "4       NaN     Late Anna Saheb Magar Maternity Home, Hadapsar   \n",
              "\n",
              "  Type  (Hospital / Nursing Home / Lab)  Class : (Public / Private)  \\\n",
              "0             Hospital (Maternity Home)                      Public   \n",
              "1             Hospital (Maternity Home)                      Public   \n",
              "2             Hospital (Maternity Home)                      Public   \n",
              "3             Hospital (Maternity Home)                      Public   \n",
              "4             Hospital (Maternity Home)                      Public   \n",
              "\n",
              "  Pharmacy Available : Yes/No Number of Beds in Emergency Wards   \\\n",
              "0                         Yes                                  0   \n",
              "1                         Yes                                  0   \n",
              "2                         Yes                                  0   \n",
              "3                         Yes                                  0   \n",
              "4                         Yes                                  0   \n",
              "\n",
              "   Number of Beds in facility type Number of Doctors / Physicians  \\\n",
              "0                               10                              2   \n",
              "1                               14                              2   \n",
              "2                               16                              2   \n",
              "3                               30                              4   \n",
              "4                               20                              2   \n",
              "\n",
              "  Number of Nurses Number of Midwives Professional   \\\n",
              "0                4                                1   \n",
              "1                5                                2   \n",
              "2                4                                9   \n",
              "3                7                                9   \n",
              "4                3                                6   \n",
              "\n",
              "  Average Monthly Patient Footfall Ambulance Service Available  \\\n",
              "0                             4500                         Yes   \n",
              "1                             2500                         Yes   \n",
              "2                             1900                         Yes   \n",
              "3                             2400                         Yes   \n",
              "4                             4500                         Yes   \n",
              "\n",
              "  Count of Ambulance  \n",
              "0                  1  \n",
              "1                  1  \n",
              "2                  1  \n",
              "3                  2  \n",
              "4                  1  "
            ],
            "text/html": [
              "\n",
              "  <div id=\"df-fa03b31b-92aa-45b5-a8bd-20ec5958bbf4\" class=\"colab-df-container\">\n",
              "    <div>\n",
              "<style scoped>\n",
              "    .dataframe tbody tr th:only-of-type {\n",
              "        vertical-align: middle;\n",
              "    }\n",
              "\n",
              "    .dataframe tbody tr th {\n",
              "        vertical-align: top;\n",
              "    }\n",
              "\n",
              "    .dataframe thead th {\n",
              "        text-align: right;\n",
              "    }\n",
              "</style>\n",
              "<table border=\"1\" class=\"dataframe\">\n",
              "  <thead>\n",
              "    <tr style=\"text-align: right;\">\n",
              "      <th></th>\n",
              "      <th>City Name</th>\n",
              "      <th>Zone Name</th>\n",
              "      <th>Ward Name</th>\n",
              "      <th>Zone No.</th>\n",
              "      <th>Ward No.</th>\n",
              "      <th>Facility Name</th>\n",
              "      <th>Type  (Hospital / Nursing Home / Lab)</th>\n",
              "      <th>Class : (Public / Private)</th>\n",
              "      <th>Pharmacy Available : Yes/No</th>\n",
              "      <th>Number of Beds in Emergency Wards</th>\n",
              "      <th>Number of Beds in facility type</th>\n",
              "      <th>Number of Doctors / Physicians</th>\n",
              "      <th>Number of Nurses</th>\n",
              "      <th>Number of Midwives Professional</th>\n",
              "      <th>Average Monthly Patient Footfall</th>\n",
              "      <th>Ambulance Service Available</th>\n",
              "      <th>Count of Ambulance</th>\n",
              "    </tr>\n",
              "  </thead>\n",
              "  <tbody>\n",
              "    <tr>\n",
              "      <th>0</th>\n",
              "      <td>Pune</td>\n",
              "      <td>kasba - vishrambagwada WO</td>\n",
              "      <td>Ambil Odha</td>\n",
              "      <td>5.0</td>\n",
              "      <td>NaN</td>\n",
              "      <td>Late Matoshri Ramabai Ambedkar Maternity Home,...</td>\n",
              "      <td>Hospital (Maternity Home)</td>\n",
              "      <td>Public</td>\n",
              "      <td>Yes</td>\n",
              "      <td>0</td>\n",
              "      <td>10</td>\n",
              "      <td>2</td>\n",
              "      <td>4</td>\n",
              "      <td>1</td>\n",
              "      <td>4500</td>\n",
              "      <td>Yes</td>\n",
              "      <td>1</td>\n",
              "    </tr>\n",
              "    <tr>\n",
              "      <th>1</th>\n",
              "      <td>Pune</td>\n",
              "      <td>Aundh - Baner WO</td>\n",
              "      <td>Aundh</td>\n",
              "      <td>2.0</td>\n",
              "      <td>NaN</td>\n",
              "      <td>Aundh Kuti Maternity Home, Aundh</td>\n",
              "      <td>Hospital (Maternity Home)</td>\n",
              "      <td>Public</td>\n",
              "      <td>Yes</td>\n",
              "      <td>0</td>\n",
              "      <td>14</td>\n",
              "      <td>2</td>\n",
              "      <td>5</td>\n",
              "      <td>2</td>\n",
              "      <td>2500</td>\n",
              "      <td>Yes</td>\n",
              "      <td>1</td>\n",
              "    </tr>\n",
              "    <tr>\n",
              "      <th>2</th>\n",
              "      <td>Pune</td>\n",
              "      <td>Aundh - Baner WO</td>\n",
              "      <td>Bopodi</td>\n",
              "      <td>2.0</td>\n",
              "      <td>NaN</td>\n",
              "      <td>Late Draupadabai Murlidhar Khedekar Maternity ...</td>\n",
              "      <td>Hospital (Maternity Home)</td>\n",
              "      <td>Public</td>\n",
              "      <td>Yes</td>\n",
              "      <td>0</td>\n",
              "      <td>16</td>\n",
              "      <td>2</td>\n",
              "      <td>4</td>\n",
              "      <td>9</td>\n",
              "      <td>1900</td>\n",
              "      <td>Yes</td>\n",
              "      <td>1</td>\n",
              "    </tr>\n",
              "    <tr>\n",
              "      <th>3</th>\n",
              "      <td>Pune</td>\n",
              "      <td>Ghole Road - Shivaji Nagar WO</td>\n",
              "      <td>Shivaji Nagar Station</td>\n",
              "      <td>2.0</td>\n",
              "      <td>NaN</td>\n",
              "      <td>Dr. Dalvi, PMC Joint Project</td>\n",
              "      <td>Hospital (Maternity Home)</td>\n",
              "      <td>Public</td>\n",
              "      <td>Yes</td>\n",
              "      <td>0</td>\n",
              "      <td>30</td>\n",
              "      <td>4</td>\n",
              "      <td>7</td>\n",
              "      <td>9</td>\n",
              "      <td>2400</td>\n",
              "      <td>Yes</td>\n",
              "      <td>2</td>\n",
              "    </tr>\n",
              "    <tr>\n",
              "      <th>4</th>\n",
              "      <td>Pune</td>\n",
              "      <td>Hadapsar - Mundhwa WO</td>\n",
              "      <td>Hadapsar</td>\n",
              "      <td>4.0</td>\n",
              "      <td>NaN</td>\n",
              "      <td>Late Anna Saheb Magar Maternity Home, Hadapsar</td>\n",
              "      <td>Hospital (Maternity Home)</td>\n",
              "      <td>Public</td>\n",
              "      <td>Yes</td>\n",
              "      <td>0</td>\n",
              "      <td>20</td>\n",
              "      <td>2</td>\n",
              "      <td>3</td>\n",
              "      <td>6</td>\n",
              "      <td>4500</td>\n",
              "      <td>Yes</td>\n",
              "      <td>1</td>\n",
              "    </tr>\n",
              "  </tbody>\n",
              "</table>\n",
              "</div>\n",
              "    <div class=\"colab-df-buttons\">\n",
              "\n",
              "  <div class=\"colab-df-container\">\n",
              "    <button class=\"colab-df-convert\" onclick=\"convertToInteractive('df-fa03b31b-92aa-45b5-a8bd-20ec5958bbf4')\"\n",
              "            title=\"Convert this dataframe to an interactive table.\"\n",
              "            style=\"display:none;\">\n",
              "\n",
              "  <svg xmlns=\"http://www.w3.org/2000/svg\" height=\"24px\" viewBox=\"0 -960 960 960\">\n",
              "    <path d=\"M120-120v-720h720v720H120Zm60-500h600v-160H180v160Zm220 220h160v-160H400v160Zm0 220h160v-160H400v160ZM180-400h160v-160H180v160Zm440 0h160v-160H620v160ZM180-180h160v-160H180v160Zm440 0h160v-160H620v160Z\"/>\n",
              "  </svg>\n",
              "    </button>\n",
              "\n",
              "  <style>\n",
              "    .colab-df-container {\n",
              "      display:flex;\n",
              "      gap: 12px;\n",
              "    }\n",
              "\n",
              "    .colab-df-convert {\n",
              "      background-color: #E8F0FE;\n",
              "      border: none;\n",
              "      border-radius: 50%;\n",
              "      cursor: pointer;\n",
              "      display: none;\n",
              "      fill: #1967D2;\n",
              "      height: 32px;\n",
              "      padding: 0 0 0 0;\n",
              "      width: 32px;\n",
              "    }\n",
              "\n",
              "    .colab-df-convert:hover {\n",
              "      background-color: #E2EBFA;\n",
              "      box-shadow: 0px 1px 2px rgba(60, 64, 67, 0.3), 0px 1px 3px 1px rgba(60, 64, 67, 0.15);\n",
              "      fill: #174EA6;\n",
              "    }\n",
              "\n",
              "    .colab-df-buttons div {\n",
              "      margin-bottom: 4px;\n",
              "    }\n",
              "\n",
              "    [theme=dark] .colab-df-convert {\n",
              "      background-color: #3B4455;\n",
              "      fill: #D2E3FC;\n",
              "    }\n",
              "\n",
              "    [theme=dark] .colab-df-convert:hover {\n",
              "      background-color: #434B5C;\n",
              "      box-shadow: 0px 1px 3px 1px rgba(0, 0, 0, 0.15);\n",
              "      filter: drop-shadow(0px 1px 2px rgba(0, 0, 0, 0.3));\n",
              "      fill: #FFFFFF;\n",
              "    }\n",
              "  </style>\n",
              "\n",
              "    <script>\n",
              "      const buttonEl =\n",
              "        document.querySelector('#df-fa03b31b-92aa-45b5-a8bd-20ec5958bbf4 button.colab-df-convert');\n",
              "      buttonEl.style.display =\n",
              "        google.colab.kernel.accessAllowed ? 'block' : 'none';\n",
              "\n",
              "      async function convertToInteractive(key) {\n",
              "        const element = document.querySelector('#df-fa03b31b-92aa-45b5-a8bd-20ec5958bbf4');\n",
              "        const dataTable =\n",
              "          await google.colab.kernel.invokeFunction('convertToInteractive',\n",
              "                                                    [key], {});\n",
              "        if (!dataTable) return;\n",
              "\n",
              "        const docLinkHtml = 'Like what you see? Visit the ' +\n",
              "          '<a target=\"_blank\" href=https://colab.research.google.com/notebooks/data_table.ipynb>data table notebook</a>'\n",
              "          + ' to learn more about interactive tables.';\n",
              "        element.innerHTML = '';\n",
              "        dataTable['output_type'] = 'display_data';\n",
              "        await google.colab.output.renderOutput(dataTable, element);\n",
              "        const docLink = document.createElement('div');\n",
              "        docLink.innerHTML = docLinkHtml;\n",
              "        element.appendChild(docLink);\n",
              "      }\n",
              "    </script>\n",
              "  </div>\n",
              "\n",
              "\n",
              "<div id=\"df-24726c32-849c-4e40-9db5-daa2e19eea23\">\n",
              "  <button class=\"colab-df-quickchart\" onclick=\"quickchart('df-24726c32-849c-4e40-9db5-daa2e19eea23')\"\n",
              "            title=\"Suggest charts\"\n",
              "            style=\"display:none;\">\n",
              "\n",
              "<svg xmlns=\"http://www.w3.org/2000/svg\" height=\"24px\"viewBox=\"0 0 24 24\"\n",
              "     width=\"24px\">\n",
              "    <g>\n",
              "        <path d=\"M19 3H5c-1.1 0-2 .9-2 2v14c0 1.1.9 2 2 2h14c1.1 0 2-.9 2-2V5c0-1.1-.9-2-2-2zM9 17H7v-7h2v7zm4 0h-2V7h2v10zm4 0h-2v-4h2v4z\"/>\n",
              "    </g>\n",
              "</svg>\n",
              "  </button>\n",
              "\n",
              "<style>\n",
              "  .colab-df-quickchart {\n",
              "      --bg-color: #E8F0FE;\n",
              "      --fill-color: #1967D2;\n",
              "      --hover-bg-color: #E2EBFA;\n",
              "      --hover-fill-color: #174EA6;\n",
              "      --disabled-fill-color: #AAA;\n",
              "      --disabled-bg-color: #DDD;\n",
              "  }\n",
              "\n",
              "  [theme=dark] .colab-df-quickchart {\n",
              "      --bg-color: #3B4455;\n",
              "      --fill-color: #D2E3FC;\n",
              "      --hover-bg-color: #434B5C;\n",
              "      --hover-fill-color: #FFFFFF;\n",
              "      --disabled-bg-color: #3B4455;\n",
              "      --disabled-fill-color: #666;\n",
              "  }\n",
              "\n",
              "  .colab-df-quickchart {\n",
              "    background-color: var(--bg-color);\n",
              "    border: none;\n",
              "    border-radius: 50%;\n",
              "    cursor: pointer;\n",
              "    display: none;\n",
              "    fill: var(--fill-color);\n",
              "    height: 32px;\n",
              "    padding: 0;\n",
              "    width: 32px;\n",
              "  }\n",
              "\n",
              "  .colab-df-quickchart:hover {\n",
              "    background-color: var(--hover-bg-color);\n",
              "    box-shadow: 0 1px 2px rgba(60, 64, 67, 0.3), 0 1px 3px 1px rgba(60, 64, 67, 0.15);\n",
              "    fill: var(--button-hover-fill-color);\n",
              "  }\n",
              "\n",
              "  .colab-df-quickchart-complete:disabled,\n",
              "  .colab-df-quickchart-complete:disabled:hover {\n",
              "    background-color: var(--disabled-bg-color);\n",
              "    fill: var(--disabled-fill-color);\n",
              "    box-shadow: none;\n",
              "  }\n",
              "\n",
              "  .colab-df-spinner {\n",
              "    border: 2px solid var(--fill-color);\n",
              "    border-color: transparent;\n",
              "    border-bottom-color: var(--fill-color);\n",
              "    animation:\n",
              "      spin 1s steps(1) infinite;\n",
              "  }\n",
              "\n",
              "  @keyframes spin {\n",
              "    0% {\n",
              "      border-color: transparent;\n",
              "      border-bottom-color: var(--fill-color);\n",
              "      border-left-color: var(--fill-color);\n",
              "    }\n",
              "    20% {\n",
              "      border-color: transparent;\n",
              "      border-left-color: var(--fill-color);\n",
              "      border-top-color: var(--fill-color);\n",
              "    }\n",
              "    30% {\n",
              "      border-color: transparent;\n",
              "      border-left-color: var(--fill-color);\n",
              "      border-top-color: var(--fill-color);\n",
              "      border-right-color: var(--fill-color);\n",
              "    }\n",
              "    40% {\n",
              "      border-color: transparent;\n",
              "      border-right-color: var(--fill-color);\n",
              "      border-top-color: var(--fill-color);\n",
              "    }\n",
              "    60% {\n",
              "      border-color: transparent;\n",
              "      border-right-color: var(--fill-color);\n",
              "    }\n",
              "    80% {\n",
              "      border-color: transparent;\n",
              "      border-right-color: var(--fill-color);\n",
              "      border-bottom-color: var(--fill-color);\n",
              "    }\n",
              "    90% {\n",
              "      border-color: transparent;\n",
              "      border-bottom-color: var(--fill-color);\n",
              "    }\n",
              "  }\n",
              "</style>\n",
              "\n",
              "  <script>\n",
              "    async function quickchart(key) {\n",
              "      const quickchartButtonEl =\n",
              "        document.querySelector('#' + key + ' button');\n",
              "      quickchartButtonEl.disabled = true;  // To prevent multiple clicks.\n",
              "      quickchartButtonEl.classList.add('colab-df-spinner');\n",
              "      try {\n",
              "        const charts = await google.colab.kernel.invokeFunction(\n",
              "            'suggestCharts', [key], {});\n",
              "      } catch (error) {\n",
              "        console.error('Error during call to suggestCharts:', error);\n",
              "      }\n",
              "      quickchartButtonEl.classList.remove('colab-df-spinner');\n",
              "      quickchartButtonEl.classList.add('colab-df-quickchart-complete');\n",
              "    }\n",
              "    (() => {\n",
              "      let quickchartButtonEl =\n",
              "        document.querySelector('#df-24726c32-849c-4e40-9db5-daa2e19eea23 button');\n",
              "      quickchartButtonEl.style.display =\n",
              "        google.colab.kernel.accessAllowed ? 'block' : 'none';\n",
              "    })();\n",
              "  </script>\n",
              "</div>\n",
              "\n",
              "    </div>\n",
              "  </div>\n"
            ],
            "application/vnd.google.colaboratory.intrinsic+json": {
              "type": "dataframe",
              "variable_name": "df",
              "summary": "{\n  \"name\": \"df\",\n  \"rows\": 737,\n  \"fields\": [\n    {\n      \"column\": \"City Name\",\n      \"properties\": {\n        \"dtype\": \"category\",\n        \"num_unique_values\": 1,\n        \"samples\": [\n          \"Pune\"\n        ],\n        \"semantic_type\": \"\",\n        \"description\": \"\"\n      }\n    },\n    {\n      \"column\": \"Zone Name\",\n      \"properties\": {\n        \"dtype\": \"category\",\n        \"num_unique_values\": 18,\n        \"samples\": [\n          \"kasba - vishrambagwada WO\"\n        ],\n        \"semantic_type\": \"\",\n        \"description\": \"\"\n      }\n    },\n    {\n      \"column\": \"Ward Name\",\n      \"properties\": {\n        \"dtype\": \"category\",\n        \"num_unique_values\": 80,\n        \"samples\": [\n          \"Shaniwar Peth\"\n        ],\n        \"semantic_type\": \"\",\n        \"description\": \"\"\n      }\n    },\n    {\n      \"column\": \"Zone No.\",\n      \"properties\": {\n        \"dtype\": \"number\",\n        \"std\": 1.4013033771509182,\n        \"min\": 1.0,\n        \"max\": 5.0,\n        \"num_unique_values\": 5,\n        \"samples\": [\n          2.0\n        ],\n        \"semantic_type\": \"\",\n        \"description\": \"\"\n      }\n    },\n    {\n      \"column\": \"Ward No.\",\n      \"properties\": {\n        \"dtype\": \"number\",\n        \"std\": null,\n        \"min\": null,\n        \"max\": null,\n        \"num_unique_values\": 0,\n        \"samples\": [],\n        \"semantic_type\": \"\",\n        \"description\": \"\"\n      }\n    },\n    {\n      \"column\": \"Facility Name\",\n      \"properties\": {\n        \"dtype\": \"string\",\n        \"num_unique_values\": 708,\n        \"samples\": [],\n        \"semantic_type\": \"\",\n        \"description\": \"\"\n      }\n    },\n    {\n      \"column\": \"Type  (Hospital / Nursing Home / Lab)\",\n      \"properties\": {\n        \"dtype\": \"category\",\n        \"num_unique_values\": 43,\n        \"samples\": [],\n        \"semantic_type\": \"\",\n        \"description\": \"\"\n      }\n    },\n    {\n      \"column\": \" Class : (Public / Private)\",\n      \"properties\": {\n        \"dtype\": \"category\",\n        \"num_unique_values\": 2,\n        \"samples\": [],\n        \"semantic_type\": \"\",\n        \"description\": \"\"\n      }\n    },\n    {\n      \"column\": \"Pharmacy Available : Yes/No\",\n      \"properties\": {\n        \"dtype\": \"category\",\n        \"num_unique_values\": 3,\n        \"samples\": [],\n        \"semantic_type\": \"\",\n        \"description\": \"\"\n      }\n    },\n    {\n      \"column\": \"Number of Beds in Emergency Wards \",\n      \"properties\": {\n        \"dtype\": \"category\",\n        \"num_unique_values\": 2,\n        \"samples\": [],\n        \"semantic_type\": \"\",\n        \"description\": \"\"\n      }\n    },\n    {\n      \"column\": \"Number of Beds in facility type\",\n      \"properties\": {\n        \"dtype\": \"number\",\n        \"std\": 63,\n        \"min\": 0,\n        \"max\": 831,\n        \"num_unique_values\": 86,\n        \"samples\": [],\n        \"semantic_type\": \"\",\n        \"description\": \"\"\n      }\n    },\n    {\n      \"column\": \"Number of Doctors / Physicians\",\n      \"properties\": {\n        \"dtype\": \"category\",\n        \"num_unique_values\": 6,\n        \"samples\": [],\n        \"semantic_type\": \"\",\n        \"description\": \"\"\n      }\n    },\n    {\n      \"column\": \"Number of Nurses\",\n      \"properties\": {\n        \"dtype\": \"category\",\n        \"num_unique_values\": 12,\n        \"samples\": [],\n        \"semantic_type\": \"\",\n        \"description\": \"\"\n      }\n    },\n    {\n      \"column\": \"Number of Midwives Professional \",\n      \"properties\": {\n        \"dtype\": \"category\",\n        \"num_unique_values\": 12,\n        \"samples\": [],\n        \"semantic_type\": \"\",\n        \"description\": \"\"\n      }\n    },\n    {\n      \"column\": \"Average Monthly Patient Footfall\",\n      \"properties\": {\n        \"dtype\": \"category\",\n        \"num_unique_values\": 36,\n        \"samples\": [],\n        \"semantic_type\": \"\",\n        \"description\": \"\"\n      }\n    },\n    {\n      \"column\": \"Ambulance Service Available\",\n      \"properties\": {\n        \"dtype\": \"category\",\n        \"num_unique_values\": 4,\n        \"samples\": [],\n        \"semantic_type\": \"\",\n        \"description\": \"\"\n      }\n    },\n    {\n      \"column\": \"Count of Ambulance\",\n      \"properties\": {\n        \"dtype\": \"category\",\n        \"num_unique_values\": 6,\n        \"samples\": [],\n        \"semantic_type\": \"\",\n        \"description\": \"\"\n      }\n    }\n  ]\n}"
            }
          },
          "metadata": {},
          "execution_count": 13
        }
      ]
    },
    {
      "cell_type": "code",
      "source": [
        "from google.colab import auth\n",
        "auth.authenticate_user()\n",
        "\n",
        "!git config --global user.email \"shubham78p@gmail.com\"\n",
        "!git config --global user.name \"shubhampandey78\"\n"
      ],
      "metadata": {
        "id": "i3vFHeWf8qhH"
      },
      "execution_count": null,
      "outputs": []
    },
    {
      "cell_type": "code",
      "source": [
        "cd /content"
      ],
      "metadata": {
        "colab": {
          "base_uri": "https://localhost:8080/"
        },
        "id": "si6FewojfCV7",
        "outputId": "77c4bbc7-3f7c-46a8-8863-091f2c1e395e"
      },
      "execution_count": null,
      "outputs": [
        {
          "output_type": "stream",
          "name": "stdout",
          "text": [
            "/content\n"
          ]
        }
      ]
    },
    {
      "cell_type": "code",
      "source": [
        "!git init"
      ],
      "metadata": {
        "colab": {
          "base_uri": "https://localhost:8080/"
        },
        "id": "2yl6cTdggCl9",
        "outputId": "f08b19dd-d51c-4a10-cc44-cf8f19e48746"
      },
      "execution_count": null,
      "outputs": [
        {
          "output_type": "stream",
          "name": "stdout",
          "text": [
            "\u001b[33mhint: Using 'master' as the name for the initial branch. This default branch name\u001b[m\n",
            "\u001b[33mhint: is subject to change. To configure the initial branch name to use in all\u001b[m\n",
            "\u001b[33mhint: of your new repositories, which will suppress this warning, call:\u001b[m\n",
            "\u001b[33mhint: \u001b[m\n",
            "\u001b[33mhint: \tgit config --global init.defaultBranch <name>\u001b[m\n",
            "\u001b[33mhint: \u001b[m\n",
            "\u001b[33mhint: Names commonly chosen instead of 'master' are 'main', 'trunk' and\u001b[m\n",
            "\u001b[33mhint: 'development'. The just-created branch can be renamed via this command:\u001b[m\n",
            "\u001b[33mhint: \u001b[m\n",
            "\u001b[33mhint: \tgit branch -m <name>\u001b[m\n",
            "Initialized empty Git repository in /content/.git/\n"
          ]
        }
      ]
    },
    {
      "cell_type": "code",
      "source": [
        "!ls -R /content\n"
      ],
      "metadata": {
        "colab": {
          "base_uri": "https://localhost:8080/"
        },
        "id": "jHNptSn0nS2t",
        "outputId": "5e9c6682-911e-4867-fc0a-48827c9a534f"
      },
      "execution_count": null,
      "outputs": [
        {
          "output_type": "stream",
          "name": "stdout",
          "text": [
            "/content:\n",
            "sample_data\n",
            "\n",
            "/content/sample_data:\n",
            "anscombe.json\t\t     california_housing_train.csv  mnist_train_small.csv\n",
            "california_housing_test.csv  mnist_test.csv\t\t   README.md\n"
          ]
        }
      ]
    },
    {
      "cell_type": "code",
      "source": [
        "!echo \"drive/MyDrive/*.gsheet\" >> .gitignore\n",
        "!echo \".ipynb_checkpoints/\" >> .gitignore\n",
        "!echo \"__pycache__/\" >> .gitignore\n",
        "!git add .gitignore\n"
      ],
      "metadata": {
        "id": "fg8WWptdo31N"
      },
      "execution_count": null,
      "outputs": []
    },
    {
      "cell_type": "code",
      "source": [
        "!git init  # Initialize Git in /content\n",
        "!git add .  # Stage all files\n",
        "!git commit -m \"Added project structure and dataset\"  # Commit the changes\n",
        "!git branch -M main  # Rename branch to main (if not already)\n",
        "!git remote add origin https://github.com/shubhampandey78/Public-Service-Demand-Forecasting.git  # Add GitHub repo\n",
        "!git push -u origin main  # Push everything to GitHub\n"
      ],
      "metadata": {
        "colab": {
          "base_uri": "https://localhost:8080/"
        },
        "id": "ChXWa5VXnexB",
        "outputId": "5f6c61c1-ac56-40d9-b689-e93f76a9df76"
      },
      "execution_count": null,
      "outputs": [
        {
          "output_type": "stream",
          "name": "stdout",
          "text": [
            "Reinitialized existing Git repository in /content/.git/\n",
            "error: open(\"drive/MyDrive/BMC PUBLIC XRAYJUN-2023.gdoc\"): Operation not supported\n",
            "error: unable to index file 'drive/MyDrive/BMC PUBLIC XRAYJUN-2023.gdoc'\n",
            "fatal: adding files failed\n",
            "[main 3a0361f] Added project structure and dataset\n",
            " 1 file changed, 3 insertions(+)\n",
            " create mode 100644 .gitignore\n",
            "error: remote origin already exists.\n",
            "fatal: could not read Username for 'https://github.com': No such device or address\n"
          ]
        }
      ]
    },
    {
      "cell_type": "code",
      "source": [
        "!git add .gitignore\n",
        "!git commit -m \"Added .gitignore file\"\n",
        "!git push origin main\n"
      ],
      "metadata": {
        "colab": {
          "base_uri": "https://localhost:8080/"
        },
        "id": "hJT7zwsSpqUL",
        "outputId": "ac230e2f-6d57-4935-de95-ce5e8aa4e0d1"
      },
      "execution_count": null,
      "outputs": [
        {
          "output_type": "stream",
          "name": "stdout",
          "text": [
            "On branch main\n",
            "Untracked files:\n",
            "  (use \"git add <file>...\" to include in what will be committed)\n",
            "\t\u001b[31mREADME.md\u001b[m\n",
            "\t\u001b[31mdata/\u001b[m\n",
            "\t\u001b[31mdrive/\u001b[m\n",
            "\t\u001b[31mnotebooks/\u001b[m\n",
            "\t\u001b[31mrequirements.txt\u001b[m\n",
            "\t\u001b[31mscripts/\u001b[m\n",
            "\n",
            "nothing added to commit but untracked files present (use \"git add\" to track)\n",
            "fatal: could not read Username for 'https://github.com': No such device or address\n"
          ]
        }
      ]
    },
    {
      "cell_type": "code",
      "source": [
        "!git config --global user.email \"shubham78p@gmail.com\"\n",
        "!git config --global user.name \"shubhampandey78\"\n",
        "!git config --global credential.helper store\n"
      ],
      "metadata": {
        "id": "MowkAOIGqoLT"
      },
      "execution_count": null,
      "outputs": []
    },
    {
      "cell_type": "code",
      "source": [
        "!echo \"drive/\" >> .gitignore\n",
        "!echo \"*.gsheet\" >> .gitignore\n",
        "!echo \"*.gdoc\" >> .gitignore\n",
        "!echo \".ipynb_checkpoints/\" >> .gitignore\n",
        "!echo \"__pycache__/\" >> .gitignore\n",
        "!git add .gitignore\n",
        "!git commit -m \"Updated .gitignore to exclude Drive files\"\n"
      ],
      "metadata": {
        "colab": {
          "base_uri": "https://localhost:8080/"
        },
        "id": "LxXy2wwarCDS",
        "outputId": "ebcbe174-1c46-4440-86ea-f0dfdaaa2056"
      },
      "execution_count": null,
      "outputs": [
        {
          "output_type": "stream",
          "name": "stdout",
          "text": [
            "[main 94c9c3f] Updated .gitignore to exclude Drive files\n",
            " 1 file changed, 5 insertions(+)\n"
          ]
        }
      ]
    },
    {
      "cell_type": "code",
      "source": [
        "!git init  # Initialize Git in /content\n",
        "!git add .  # Stage all files\n",
        "!git commit -m \"Added project structure and dataset\"  # Commit the changes\n",
        "!git branch -M main  # Rename branch to main (if not already)\n",
        "!git remote add origin https://github.com/shubhampandey78/Public-Service-Demand-Forecasting.git  # Add GitHub repo\n",
        "!git push -u origin main  # Push everything to GitHub\n"
      ],
      "metadata": {
        "colab": {
          "base_uri": "https://localhost:8080/"
        },
        "id": "0mXgSmi1rM0M",
        "outputId": "6ac59b98-6b22-45cb-8c70-0741bd439005"
      },
      "execution_count": null,
      "outputs": [
        {
          "output_type": "stream",
          "name": "stdout",
          "text": [
            "Reinitialized existing Git repository in /content/.git/\n",
            "[main 9a2c5bd] Added project structure and dataset\n",
            " 8 files changed, 738 insertions(+)\n",
            " create mode 100644 README.md\n",
            " create mode 100644 data/raw/PMC Hospital Infrastructure.csv\n",
            " create mode 100644 notebooks/EDA.ipynb\n",
            " create mode 100644 notebooks/Regression_Model.ipynb\n",
            " create mode 100644 notebooks/TensorFlow_Model.ipynb\n",
            " create mode 100644 requirements.txt\n",
            " create mode 100644 scripts/preprocess.py\n",
            " create mode 100644 scripts/train_model.py\n",
            "error: remote origin already exists.\n",
            "fatal: could not read Username for 'https://github.com': No such device or address\n"
          ]
        }
      ]
    },
    {
      "cell_type": "code",
      "source": [
        "!git remote remove origin\n"
      ],
      "metadata": {
        "id": "fSvFOa1PrcsX"
      },
      "execution_count": 21,
      "outputs": []
    },
    {
      "cell_type": "code",
      "source": [
        "!git add ."
      ],
      "metadata": {
        "id": "EyCS-KnAsqeg"
      },
      "execution_count": 22,
      "outputs": []
    },
    {
      "cell_type": "code",
      "source": [
        "# Check shape (rows, columns)\n",
        "print(f\"Dataset contains {df.shape[0]} rows and {df.shape[1]} columns.\")\n",
        "\n",
        "# Check column data types\n",
        "print(\"\\nColumn Data Types:\")\n",
        "print(df.dtypes)\n",
        "\n",
        "# Check missing values\n",
        "print(\"\\nMissing Values:\")\n",
        "print(df.isnull().sum())\n"
      ],
      "metadata": {
        "colab": {
          "base_uri": "https://localhost:8080/"
        },
        "id": "3Icy4QvgulfP",
        "outputId": "902009fe-81ce-4948-92ec-ab02b0ba7fca"
      },
      "execution_count": 25,
      "outputs": [
        {
          "output_type": "stream",
          "name": "stdout",
          "text": [
            "Dataset contains 737 rows and 17 columns.\n",
            "\n",
            "Column Data Types:\n",
            "City Name                                 object\n",
            "Zone Name                                 object\n",
            "Ward Name                                 object\n",
            "Zone No.                                 float64\n",
            "Ward No.                                 float64\n",
            "Facility Name                             object\n",
            "Type  (Hospital / Nursing Home / Lab)     object\n",
            " Class : (Public / Private)               object\n",
            "Pharmacy Available : Yes/No               object\n",
            "Number of Beds in Emergency Wards         object\n",
            "Number of Beds in facility type            int64\n",
            "Number of Doctors / Physicians            object\n",
            "Number of Nurses                          object\n",
            "Number of Midwives Professional           object\n",
            "Average Monthly Patient Footfall          object\n",
            "Ambulance Service Available               object\n",
            "Count of Ambulance                        object\n",
            "dtype: object\n",
            "\n",
            "Missing Values:\n",
            "City Name                                  0\n",
            "Zone Name                                 32\n",
            "Ward Name                                  2\n",
            "Zone No.                                  45\n",
            "Ward No.                                 737\n",
            "Facility Name                              0\n",
            "Type  (Hospital / Nursing Home / Lab)      0\n",
            " Class : (Public / Private)                0\n",
            "Pharmacy Available : Yes/No                0\n",
            "Number of Beds in Emergency Wards          0\n",
            "Number of Beds in facility type            0\n",
            "Number of Doctors / Physicians             0\n",
            "Number of Nurses                           0\n",
            "Number of Midwives Professional            0\n",
            "Average Monthly Patient Footfall           3\n",
            "Ambulance Service Available                0\n",
            "Count of Ambulance                         0\n",
            "dtype: int64\n"
          ]
        }
      ]
    },
    {
      "cell_type": "markdown",
      "source": [
        "# Data Cleaning\n"
      ],
      "metadata": {
        "id": "zo237qPbvpLL"
      }
    },
    {
      "cell_type": "code",
      "source": [
        "# Drop 'Ward No.' column since it has all missing values\n",
        "df.drop(columns=['Ward No.'], inplace=True)"
      ],
      "metadata": {
        "id": "H13n6gkruwoC"
      },
      "execution_count": 26,
      "outputs": []
    },
    {
      "cell_type": "code",
      "source": [
        "# Fill missing values using direct assignment\n",
        "df.loc[:, 'Zone Name'] = df['Zone Name'].fillna(df['Zone Name'].mode()[0])  # Fill with most frequent value\n",
        "df.loc[:, 'Zone No.'] = df['Zone No.'].fillna(df['Zone No.'].median())  # Fill with median value\n",
        "df.loc[:, 'Ward Name'] = df['Ward Name'].fillna(df['Ward Name'].mode()[0])\n",
        "df.loc[:, 'Average Monthly Patient Footfall'] = df['Average Monthly Patient Footfall'].fillna(df['Average Monthly Patient Footfall'].median())"
      ],
      "metadata": {
        "id": "ypiKI0TVvtdA"
      },
      "execution_count": 33,
      "outputs": []
    },
    {
      "cell_type": "code",
      "source": [
        "# Convert numerical columns from object to int/float\n",
        "df.loc[:, 'Number of Doctors / Physicians'] = pd.to_numeric(df['Number of Doctors / Physicians'], errors='coerce')\n",
        "df.loc[:, 'Number of Nurses'] = pd.to_numeric(df['Number of Nurses'], errors='coerce')\n",
        "df.loc[:, 'Number of Midwives Professional '] = pd.to_numeric(df['Number of Midwives Professional '], errors='coerce')\n",
        "df.loc[:, 'Average Monthly Patient Footfall'] = pd.to_numeric(df['Average Monthly Patient Footfall'], errors='coerce')"
      ],
      "metadata": {
        "id": "s605n1dPvxcT"
      },
      "execution_count": 36,
      "outputs": []
    },
    {
      "cell_type": "code",
      "source": [
        "# Rename columns to remove extra spaces\n",
        "df.rename(columns=lambda x: x.strip(), inplace=True)"
      ],
      "metadata": {
        "id": "Bc_no3hfxV8V"
      },
      "execution_count": 37,
      "outputs": []
    },
    {
      "cell_type": "code",
      "source": [
        "# Recheck missing values after transformations\n",
        "print(\"\\nMissing Values After Cleaning:\")\n",
        "print(df.isnull().sum())\n"
      ],
      "metadata": {
        "colab": {
          "base_uri": "https://localhost:8080/"
        },
        "id": "-sdpBCSCx4jf",
        "outputId": "27386fa5-bf8f-4df1-cc29-9ba9b9435a7d"
      },
      "execution_count": 38,
      "outputs": [
        {
          "output_type": "stream",
          "name": "stdout",
          "text": [
            "\n",
            "Missing Values After Cleaning:\n",
            "City Name                                  0\n",
            "Zone Name                                  0\n",
            "Ward Name                                  0\n",
            "Zone No.                                   0\n",
            "Facility Name                              0\n",
            "Type  (Hospital / Nursing Home / Lab)      0\n",
            "Class : (Public / Private)                 0\n",
            "Pharmacy Available : Yes/No                0\n",
            "Number of Beds in Emergency Wards          0\n",
            "Number of Beds in facility type            0\n",
            "Number of Doctors / Physicians           663\n",
            "Number of Nurses                         663\n",
            "Number of Midwives Professional          663\n",
            "Average Monthly Patient Footfall           0\n",
            "Ambulance Service Available                0\n",
            "Count of Ambulance                         0\n",
            "dtype: int64\n"
          ]
        }
      ]
    },
    {
      "cell_type": "code",
      "source": [
        "print(df.columns)\n"
      ],
      "metadata": {
        "colab": {
          "base_uri": "https://localhost:8080/"
        },
        "id": "xZeCwQJrx68O",
        "outputId": "40af0d6c-e40c-4314-b831-74cc268d1073"
      },
      "execution_count": 39,
      "outputs": [
        {
          "output_type": "stream",
          "name": "stdout",
          "text": [
            "Index(['City Name', 'Zone Name', 'Ward Name', 'Zone No.', 'Facility Name',\n",
            "       'Type  (Hospital / Nursing Home / Lab)', 'Class : (Public / Private)',\n",
            "       'Pharmacy Available : Yes/No', 'Number of Beds in Emergency Wards',\n",
            "       'Number of Beds in facility type', 'Number of Doctors / Physicians',\n",
            "       'Number of Nurses', 'Number of Midwives Professional',\n",
            "       'Average Monthly Patient Footfall', 'Ambulance Service Available',\n",
            "       'Count of Ambulance'],\n",
            "      dtype='object')\n"
          ]
        }
      ]
    },
    {
      "cell_type": "code",
      "source": [
        "df['Number of Midwives Professional'] = pd.to_numeric(df.get('Number of Midwives Professional'), errors='coerce')\n"
      ],
      "metadata": {
        "id": "UPxQufxSydc5"
      },
      "execution_count": 40,
      "outputs": []
    },
    {
      "cell_type": "code",
      "source": [
        "# Recheck missing values after transformations\n",
        "print(\"\\nMissing Values After Cleaning:\")\n",
        "print(df.isnull().sum())\n"
      ],
      "metadata": {
        "colab": {
          "base_uri": "https://localhost:8080/"
        },
        "id": "miKQU_1Tyrdf",
        "outputId": "d5f94ad5-28ee-45e3-a210-e9e0adeef17c"
      },
      "execution_count": 41,
      "outputs": [
        {
          "output_type": "stream",
          "name": "stdout",
          "text": [
            "\n",
            "Missing Values After Cleaning:\n",
            "City Name                                  0\n",
            "Zone Name                                  0\n",
            "Ward Name                                  0\n",
            "Zone No.                                   0\n",
            "Facility Name                              0\n",
            "Type  (Hospital / Nursing Home / Lab)      0\n",
            "Class : (Public / Private)                 0\n",
            "Pharmacy Available : Yes/No                0\n",
            "Number of Beds in Emergency Wards          0\n",
            "Number of Beds in facility type            0\n",
            "Number of Doctors / Physicians           663\n",
            "Number of Nurses                         663\n",
            "Number of Midwives Professional          663\n",
            "Average Monthly Patient Footfall           0\n",
            "Ambulance Service Available                0\n",
            "Count of Ambulance                         0\n",
            "dtype: int64\n"
          ]
        }
      ]
    },
    {
      "cell_type": "code",
      "source": [
        "# Check final column data types\n",
        "print(\"\\nUpdated Column Data Types:\")\n",
        "print(df.dtypes)"
      ],
      "metadata": {
        "colab": {
          "base_uri": "https://localhost:8080/"
        },
        "id": "vaJjRIcHy5M4",
        "outputId": "fb9c44ed-7da2-4eea-fd49-ec9dba2a8ad9"
      },
      "execution_count": 42,
      "outputs": [
        {
          "output_type": "stream",
          "name": "stdout",
          "text": [
            "\n",
            "Updated Column Data Types:\n",
            "City Name                                 object\n",
            "Zone Name                                 object\n",
            "Ward Name                                 object\n",
            "Zone No.                                 float64\n",
            "Facility Name                             object\n",
            "Type  (Hospital / Nursing Home / Lab)     object\n",
            "Class : (Public / Private)                object\n",
            "Pharmacy Available : Yes/No               object\n",
            "Number of Beds in Emergency Wards         object\n",
            "Number of Beds in facility type            int64\n",
            "Number of Doctors / Physicians            object\n",
            "Number of Nurses                          object\n",
            "Number of Midwives Professional          float64\n",
            "Average Monthly Patient Footfall         float64\n",
            "Ambulance Service Available               object\n",
            "Count of Ambulance                        object\n",
            "dtype: object\n"
          ]
        }
      ]
    },
    {
      "cell_type": "code",
      "source": [
        "# Convert numerical columns from object to int/float\n",
        "numeric_columns = [\n",
        "    'Number of Beds in Emergency Wards',\n",
        "    'Number of Doctors / Physicians',\n",
        "    'Number of Nurses',\n",
        "    'Number of Midwives Professional',\n",
        "    'Average Monthly Patient Footfall',\n",
        "    'Count of Ambulance'\n",
        "]\n",
        "\n",
        "for col in numeric_columns:\n",
        "    if col in df.columns:\n",
        "        df[col] = df[col].astype(str).str.strip()  # Remove extra spaces\n",
        "        df[col] = pd.to_numeric(df[col], errors='coerce')  # Convert to numeric\n",
        "\n",
        "# Check final column data types again\n",
        "print(\"\\nUpdated Column Data Types:\")\n",
        "print(df.dtypes)\n"
      ],
      "metadata": {
        "colab": {
          "base_uri": "https://localhost:8080/"
        },
        "id": "d1md6moCy8NT",
        "outputId": "9a8d1723-358a-42b5-c1ba-6024b5c71a28"
      },
      "execution_count": 43,
      "outputs": [
        {
          "output_type": "stream",
          "name": "stdout",
          "text": [
            "\n",
            "Updated Column Data Types:\n",
            "City Name                                 object\n",
            "Zone Name                                 object\n",
            "Ward Name                                 object\n",
            "Zone No.                                 float64\n",
            "Facility Name                             object\n",
            "Type  (Hospital / Nursing Home / Lab)     object\n",
            "Class : (Public / Private)                object\n",
            "Pharmacy Available : Yes/No               object\n",
            "Number of Beds in Emergency Wards        float64\n",
            "Number of Beds in facility type            int64\n",
            "Number of Doctors / Physicians           float64\n",
            "Number of Nurses                         float64\n",
            "Number of Midwives Professional          float64\n",
            "Average Monthly Patient Footfall         float64\n",
            "Ambulance Service Available               object\n",
            "Count of Ambulance                       float64\n",
            "dtype: object\n"
          ]
        }
      ]
    },
    {
      "cell_type": "code",
      "source": [
        "# List of columns that should be numeric\n",
        "numeric_columns = [\n",
        "    'Number of Beds in Emergency Wards',\n",
        "    'Number of Doctors / Physicians',\n",
        "    'Number of Nurses',\n",
        "    'Number of Midwives Professional',\n",
        "    'Average Monthly Patient Footfall',\n",
        "    'Count of Ambulance'\n",
        "]\n",
        "\n",
        "# Convert these columns to numeric, handling errors\n",
        "for col in numeric_columns:\n",
        "    if col in df.columns:  # Ensure column exists\n",
        "        df[col] = df[col].astype(str).str.strip()  # Remove spaces\n",
        "        df[col] = pd.to_numeric(df[col], errors='coerce')  # Convert to numeric, set errors as NaN\n",
        "\n",
        "# Check final column data types\n",
        "print(\"\\nUpdated Column Data Types:\")\n",
        "print(df.dtypes)\n"
      ],
      "metadata": {
        "colab": {
          "base_uri": "https://localhost:8080/"
        },
        "id": "hUf3646GzLl3",
        "outputId": "9a3e0533-9bac-483c-c602-b54955a0807a"
      },
      "execution_count": 44,
      "outputs": [
        {
          "output_type": "stream",
          "name": "stdout",
          "text": [
            "\n",
            "Updated Column Data Types:\n",
            "City Name                                 object\n",
            "Zone Name                                 object\n",
            "Ward Name                                 object\n",
            "Zone No.                                 float64\n",
            "Facility Name                             object\n",
            "Type  (Hospital / Nursing Home / Lab)     object\n",
            "Class : (Public / Private)                object\n",
            "Pharmacy Available : Yes/No               object\n",
            "Number of Beds in Emergency Wards        float64\n",
            "Number of Beds in facility type            int64\n",
            "Number of Doctors / Physicians           float64\n",
            "Number of Nurses                         float64\n",
            "Number of Midwives Professional          float64\n",
            "Average Monthly Patient Footfall         float64\n",
            "Ambulance Service Available               object\n",
            "Count of Ambulance                       float64\n",
            "dtype: object\n"
          ]
        }
      ]
    },
    {
      "cell_type": "code",
      "source": [
        "print(\"Columns in dataset:\\n\", df.columns)\n",
        "print(\"\\nMissing values after cleaning:\\n\", df.isnull().sum())\n"
      ],
      "metadata": {
        "colab": {
          "base_uri": "https://localhost:8080/"
        },
        "id": "HrIQJOJuz5Au",
        "outputId": "56980cc6-8e5b-4374-8000-6451db2b3aeb"
      },
      "execution_count": 45,
      "outputs": [
        {
          "output_type": "stream",
          "name": "stdout",
          "text": [
            "Columns in dataset:\n",
            " Index(['City Name', 'Zone Name', 'Ward Name', 'Zone No.', 'Facility Name',\n",
            "       'Type  (Hospital / Nursing Home / Lab)', 'Class : (Public / Private)',\n",
            "       'Pharmacy Available : Yes/No', 'Number of Beds in Emergency Wards',\n",
            "       'Number of Beds in facility type', 'Number of Doctors / Physicians',\n",
            "       'Number of Nurses', 'Number of Midwives Professional',\n",
            "       'Average Monthly Patient Footfall', 'Ambulance Service Available',\n",
            "       'Count of Ambulance'],\n",
            "      dtype='object')\n",
            "\n",
            "Missing values after cleaning:\n",
            " City Name                                  0\n",
            "Zone Name                                  0\n",
            "Ward Name                                  0\n",
            "Zone No.                                   0\n",
            "Facility Name                              0\n",
            "Type  (Hospital / Nursing Home / Lab)      0\n",
            "Class : (Public / Private)                 0\n",
            "Pharmacy Available : Yes/No                0\n",
            "Number of Beds in Emergency Wards        663\n",
            "Number of Beds in facility type            0\n",
            "Number of Doctors / Physicians           663\n",
            "Number of Nurses                         663\n",
            "Number of Midwives Professional          663\n",
            "Average Monthly Patient Footfall           0\n",
            "Ambulance Service Available                0\n",
            "Count of Ambulance                       663\n",
            "dtype: int64\n"
          ]
        }
      ]
    },
    {
      "cell_type": "code",
      "source": [
        "# Filling missing numerical values with median\n",
        "numerical_cols = [\n",
        "    'Number of Beds in Emergency Wards',\n",
        "    'Number of Doctors / Physicians',\n",
        "    'Number of Nurses',\n",
        "    'Number of Midwives Professional',\n",
        "    'Count of Ambulance'\n",
        "]\n",
        "\n",
        "for col in numerical_cols:\n",
        "    if col in df.columns:\n",
        "        df[col] = df[col].fillna(df[col].median())  # Safe assignment without warning\n",
        "\n",
        "# Check missing values again\n",
        "print(\"\\nMissing values after filling:\\n\", df.isnull().sum())\n"
      ],
      "metadata": {
        "colab": {
          "base_uri": "https://localhost:8080/"
        },
        "id": "mvc7XZwG0i9S",
        "outputId": "a25eff56-5140-4401-c7f3-0fb8e1568028"
      },
      "execution_count": 51,
      "outputs": [
        {
          "output_type": "stream",
          "name": "stdout",
          "text": [
            "\n",
            "Missing values after filling:\n",
            " City Name                                0\n",
            "Zone Name                                0\n",
            "Ward Name                                0\n",
            "Zone No.                                 0\n",
            "Facility Name                            0\n",
            "Type  (Hospital / Nursing Home / Lab)    0\n",
            "Class : (Public / Private)               0\n",
            "Pharmacy Available : Yes/No              0\n",
            "Number of Beds in Emergency Wards        0\n",
            "Number of Beds in facility type          0\n",
            "Number of Doctors / Physicians           0\n",
            "Number of Nurses                         0\n",
            "Number of Midwives Professional          0\n",
            "Average Monthly Patient Footfall         0\n",
            "Ambulance Service Available              0\n",
            "Count of Ambulance                       0\n",
            "dtype: int64\n"
          ]
        }
      ]
    },
    {
      "cell_type": "code",
      "source": [
        "for col in numerical_cols:\n",
        "    if col in df.columns:\n",
        "        df[col] = pd.to_numeric(df[col], errors='coerce')  # Ensure they are numeric\n"
      ],
      "metadata": {
        "id": "jm0sUSi20-UV"
      },
      "execution_count": 47,
      "outputs": []
    },
    {
      "cell_type": "code",
      "source": [
        "df.to_csv(\"cleaned_data.csv\", index=False)\n"
      ],
      "metadata": {
        "id": "EUY8rJVH2me1"
      },
      "execution_count": 53,
      "outputs": []
    },
    {
      "cell_type": "code",
      "source": [
        "df.to_csv(\"/content/data/processed/cleaned_data.csv\", index=False)\n"
      ],
      "metadata": {
        "id": "RDN_698y2pFa"
      },
      "execution_count": 55,
      "outputs": []
    }
  ]
}